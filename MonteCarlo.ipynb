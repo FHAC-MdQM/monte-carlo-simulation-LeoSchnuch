{
 "cells": [
  {
   "cell_type": "markdown",
   "metadata": {},
   "source": [
    "# Monte-Carlo Simulation\n",
    "\n",
    "## Aufgabenstellung\n",
    "\n",
    "Wir betrachten weiter den Federspeicher aus Assignment 1. Diesmal simulieren wir die Ergebnisse der Fertigung für $N=10.000$ Zylinder. In diesem Assignment kommt die Federrate dazu. Das Federpaket besteht aus 24 Einzelfedern, die ineinander gesteckt auf dem Umfang des Zylinder verteilt sind. Die Toleranzen der Federn sind recht groß. Die Federn sind nominal\n",
    "\n",
    "- $c_1 = (100 \\pm 20)\\, \\mathrm{N/mm}$ \n",
    "- $c_2 = (150 \\pm 30)\\, \\mathrm{N/mm}$ \n",
    "- $c_3 = (200 \\pm 40)\\, \\mathrm{N/mm}$ \n",
    "\n",
    "Die Gesamtfederrate ergibt sich als\n",
    "\n",
    "$$\n",
    "c = \\sum_{i=1}^{3} \\sum_{j=1}^{8} c_{i,j}\n",
    "$$\n",
    "\n",
    "Die geometrischen Eigenschaften entspricht dem ersten Assignment:\n",
    "\n",
    " - Deviation $d$/mm: Gleichverteilt, $[-0.05, 0.05]\\,\\mathrm{mm}$\n",
    " - Deviation $h_{1}$/mm: Gleichverteilt, $[-0.05, 0.05]\\,\\mathrm{mm}$\n",
    " - Deviation $h_{2}$/mm: Gleichverteilt, $[-0.05, 0.05]\\,\\mathrm{mm}$\n",
    " - Dev. $l$/mm: Gleichverteilt, $[-0.05, 0.05]\\,\\mathrm{mm}$\n",
    "\n",
    "Mit diesen Abweichungen vom Mittelwert ergibt sich die Kraft des Federspeichers als\n",
    "\n",
    "$$\n",
    "F = 2 i c(1 + h_1 + h_2 + l + d)\n",
    "$$\n",
    "\n",
    "mit der Übersetzungsrate des Zylinders $i = 2.6$.\n",
    "\n",
    "Fragestellungen:\n",
    "\n",
    "1. Federpaket:\n",
    "   - a. Wie verhält sich das Federpaket im nominalen Zustand? Simuliert dazu mindestens $N=10^4$ stochastisch unabhängige Einzelfedern und bestimmt die Federrate von aus diesen Federn zusammengesetzten Federpaketen.\n",
    "   - b. Die Federn $c_3$ liegen innerhalb der Toleranzen mit $c_3 < 200 \\, \\mathrm{N/mm}$. Wie ändert sich die Federrate?\n",
    "2. Federspeicherzylinder: Welche Verteilungen ergeben sich für die Federspeicherzylinder mit Federpakete nach a. bzw. b.? Wie entwickelt sich der Anteil der konformen Einheiten ($F_{min} = 18 \\,\\mathrm{kN}$)?\n",
    "\n",
    "Beantwortet die Fragestellungen in einem technischen Bericht mit Einleitung, Analyse und Beantwortung der Fragen."
   ]
  },
  {
   "cell_type": "markdown",
   "metadata": {},
   "source": [
    "# Einleitung\n",
    "\n",
    "#### Dieser Beericht beschäftigt sich mit der Frage welche Auswirkungen die systematische Abweichung eines einzelnen Systemparameters haben kann, selbst wenn dieser noch in den zulässigen Toleranzen liegt.\n",
    "#### Dazu werden die eingangs gestellten Fragen sukzessive abgearbeitet und, wie im ersten Assignment, am Beispiel eines Federspeichers untersucht.\n",
    "#### Zur Untersuchung der Auswirkungen wird nur der Parameter c3 variiert, alle anderen Parameter bleiben unberührt.\n",
    "#### Alle Eingangsgrößen sind stochastisch unabhängig und gleichverteilt."
   ]
  },
  {
   "cell_type": "markdown",
   "metadata": {},
   "source": [
    "# Analyse\n",
    "\n",
    "#### Alle Zwischenschritte sind ausführlich dokumentiert. Zwischenergebnisse werden graphisch dargestellt und in Zahlenwerten ausgegeben. Am Ende jeder Aufgabe erfolgt ihre Beantwortung in einem kurzen Antwortsatz. \n",
    "#### Eine Zusammenfassung der Ergebnisse findet sich am Ende der Analyse."
   ]
  },
  {
   "cell_type": "code",
   "execution_count": 1,
   "metadata": {},
   "outputs": [],
   "source": [
    "import numpy as np\n",
    "import matplotlib\n",
    "import matplotlib.pyplot as plt\n",
    "import seaborn as sns"
   ]
  },
  {
   "cell_type": "code",
   "execution_count": 2,
   "metadata": {},
   "outputs": [],
   "source": [
    "#Anzahl Federn\n",
    "N = int(1e6)"
   ]
  },
  {
   "cell_type": "code",
   "execution_count": 3,
   "metadata": {},
   "outputs": [],
   "source": [
    "#fixierter random Generator für reproduzierbare Zufallszahlen\n",
    "rng = np.random.default_rng(42)\n",
    "#Größe der Arrays der Federn - Nx8 \n",
    "S = (N,8)\n",
    "#Größe der Arrays der Zylinder - Nx1 \n",
    "P = (N,1)"
   ]
  },
  {
   "cell_type": "markdown",
   "metadata": {},
   "source": [
    "### Aufgabe 1.a"
   ]
  },
  {
   "cell_type": "code",
   "execution_count": 4,
   "metadata": {},
   "outputs": [],
   "source": [
    "#Toleranzbänder der Federn, gleichverteilt\n",
    "c1 = rng.uniform(low =80, high = 120, size = S)\n",
    "c2 = rng.uniform(low =120, high = 180, size = S)\n",
    "c3 = rng.uniform(low =160, high = 240, size = S)"
   ]
  },
  {
   "cell_type": "code",
   "execution_count": 5,
   "metadata": {},
   "outputs": [],
   "source": [
    "#Gesamt Federsteifigkeit der Federpakete\n",
    "c = np.sum (c1, axis = 1)+np.sum (c2, axis = 1)+np.sum (c3, axis = 1)"
   ]
  },
  {
   "cell_type": "code",
   "execution_count": 6,
   "metadata": {},
   "outputs": [],
   "source": [
    "#print(c)"
   ]
  },
  {
   "cell_type": "code",
   "execution_count": 7,
   "metadata": {},
   "outputs": [
    {
     "data": {
      "text/plain": [
       "Text(0.5, 0, '$c$/(kN/m)')"
      ]
     },
     "execution_count": 7,
     "metadata": {},
     "output_type": "execute_result"
    },
    {
     "data": {
      "image/png": "[encoded data removed]",
      "text/plain": [
       "<Figure size 640x480 with 1 Axes>"
      ]
     },
     "metadata": {},
     "output_type": "display_data"
    }
   ],
   "source": [
    "#Histogramm von c\n",
    "nbins = 50    # Zusammenfassen der Werte in 50 Teilpakete, erhöhen für bessere Auflösung\n",
    "plt.hist(c, density = False, bins = nbins)\n",
    "plt.ylabel('Absolute Häufigkeit')\n",
    "plt.xlabel('$c$/(kN/m)')"
   ]
  },
  {
   "cell_type": "code",
   "execution_count": 8,
   "metadata": {},
   "outputs": [
    {
     "name": "stdout",
     "output_type": "stream",
     "text": [
      "Mean value:          3600.0\n",
      "Standard dev.:       88.0\n",
      "99% of realisations: 3336.0...3864.0\n"
     ]
    }
   ],
   "source": [
    "print('Mean value:          ' + str(np.round(np.mean(c))))\n",
    "print('Standard dev.:       ' + str(np.round(np.std(c))))\n",
    "print('99% of realisations: ' + str(np.round(np.mean(c)-3*np.std(c))) + '...' + str(np.round(np.mean(c)+3*np.std(c)))) "
   ]
  },
  {
   "cell_type": "markdown",
   "metadata": {},
   "source": [
    "#### Im nominalen Zustand verhalten sich die Federpakete entsprechend einer Normalverteilung mit einem Mittelwert von 3600 kN/m und einer Standardabweichung von 88 kN/m. 99% der Werte liegen im Intervall 3336 kN/m - 3864 kN/m."
   ]
  },
  {
   "cell_type": "markdown",
   "metadata": {},
   "source": [
    "### Aufgabe 1.b"
   ]
  },
  {
   "cell_type": "code",
   "execution_count": 9,
   "metadata": {},
   "outputs": [],
   "source": [
    "#neue Toleranzbänder der Federn - c3 geändert\n",
    "#Variable von c auf f geändert\n",
    "f1 = rng.uniform(low =80, high = 120, size = S)\n",
    "f2 = rng.uniform(low =120, high = 180, size = S)\n",
    "f3 = rng.uniform(low =160, high = 200, size = S)"
   ]
  },
  {
   "cell_type": "code",
   "execution_count": 10,
   "metadata": {},
   "outputs": [],
   "source": [
    "#Gesamt Federsteifigkeit der Federpakete\n",
    "f = np.sum (f1, axis = 1)+np.sum (f2, axis = 1)+np.sum (f3, axis = 1)"
   ]
  },
  {
   "cell_type": "code",
   "execution_count": 11,
   "metadata": {
    "scrolled": false
   },
   "outputs": [
    {
     "data": {
      "text/plain": [
       "Text(0.5, 0, '$f$/(kN/m)')"
      ]
     },
     "execution_count": 11,
     "metadata": {},
     "output_type": "execute_result"
    },
    {
     "data": {
      "image/png": "[encoded data removed]",
      "text/plain": [
       "<Figure size 640x480 with 1 Axes>"
      ]
     },
     "metadata": {},
     "output_type": "display_data"
    }
   ],
   "source": [
    "#Histogramm von f\n",
    "nbins = 50   # Zusammenfassen der Werte in 50 Teilpakete, erhöhen für bessere Auflösung\n",
    "plt.hist(f, density = False, bins = nbins)\n",
    "plt.ylabel('Absolute Häufigkeit')\n",
    "plt.xlabel('$f$/(kN/m)')"
   ]
  },
  {
   "cell_type": "code",
   "execution_count": 12,
   "metadata": {},
   "outputs": [
    {
     "name": "stdout",
     "output_type": "stream",
     "text": [
      "Mean value:          3440.0\n",
      "Standard dev.:       67.0\n",
      "99% of realisations: 3238.0...3642.0\n"
     ]
    }
   ],
   "source": [
    "print('Mean value:          ' + str(np.round(np.mean(f))))\n",
    "print('Standard dev.:       ' + str(np.round(np.std(f))))\n",
    "print('99% of realisations: ' + str(np.round(np.mean(f)-3*np.std(f))) + '...' + str(np.round(np.mean(f)+3*np.std(f)))) "
   ]
  },
  {
   "cell_type": "code",
   "execution_count": 13,
   "metadata": {},
   "outputs": [
    {
     "name": "stdout",
     "output_type": "stream",
     "text": [
      "Die durchschnittliche Federsteifigkeit sinkt um 160.0 kN/m bzw. um 4.44 %.'\n"
     ]
    }
   ],
   "source": [
    "#Änderung der durchschnittlichen Federsteifigkeit\n",
    "d  = np.round(np.mean(c)) - np.round(np.mean(f))\n",
    "r = d/np.mean(c)*100\n",
    "print(f\"Die durchschnittliche Federsteifigkeit sinkt um {d} kN/m bzw. um {round(r, 2)} %.'\")"
   ]
  },
  {
   "cell_type": "markdown",
   "metadata": {},
   "source": [
    "#### Verändert man die Eingangsgröße c3, sodass 160N/mm < 𝑐3 < 200N/mm, liegt nach wie vor eine Normalverteilung vor, jedoch mit leicht geänderten Werten. Der neue Mittelwert liegt bei 3440 kN/m mit einer Standardabweichung von 67 kN/m. 99% der Werte liegen im Intervall 3238 kN/m - 3642 kN/m.\n",
    "#### Im Vergleich ist zu sehen, dass sowohl Mittelwert als auch Standardabweichung gesunken sind.\n",
    "#### Obwohl alle Werte immernoch im vorgegebenen Toleranzbereich liegen, ist die durchschnittliche Federsteifigkeit um 160 kN/m bzw. 4,44 % gesunken."
   ]
  },
  {
   "cell_type": "markdown",
   "metadata": {},
   "source": [
    "## Aufgabe 2"
   ]
  },
  {
   "cell_type": "code",
   "execution_count": 14,
   "metadata": {},
   "outputs": [],
   "source": [
    "#Toleranzbänder der geometrischen Eigenschaften\n",
    "d  = rng.uniform(low = -0.05, high = 0.05, size = P)\n",
    "h1 = rng.uniform(low = -0.05, high = 0.05, size = P)\n",
    "h2 = rng.uniform(low = -0.05, high = 0.05, size = P)\n",
    "l  = rng.uniform(low = -0.05, high = 0.05, size = P)"
   ]
  },
  {
   "cell_type": "code",
   "execution_count": 15,
   "metadata": {},
   "outputs": [],
   "source": [
    "# Übersetzungsrate des Zylinders  \n",
    "i = 2.6"
   ]
  },
  {
   "cell_type": "code",
   "execution_count": 16,
   "metadata": {},
   "outputs": [
    {
     "name": "stdout",
     "output_type": "stream",
     "text": [
      "Mean value:          18720.0\n",
      "Standard dev.:       1174.0\n",
      "99% of realisations: 15198.0...22243.0\n"
     ]
    }
   ],
   "source": [
    "# Kraft des Federspeichers Aufgabe 1.a\n",
    "Fa = 2*i*c*(1+np.sum (h1, axis = 1)+np.sum (h2, axis = 1)+np.sum (l, axis = 1)+np.sum (d, axis = 1))\n",
    "print('Mean value:          ' + str(np.round(np.mean(Fa))))\n",
    "print('Standard dev.:       ' + str(np.round(np.std(Fa))))\n",
    "print('99% of realisations: ' + str(np.round(np.mean(Fa)-3*np.std(Fa))) + '...' + str(np.round(np.mean(Fa)+3*np.std(Fa)))) "
   ]
  },
  {
   "cell_type": "code",
   "execution_count": 17,
   "metadata": {
    "scrolled": true
   },
   "outputs": [
    {
     "name": "stdout",
     "output_type": "stream",
     "text": [
      "Mean value:          17888.0\n",
      "Standard dev.:       1091.0\n",
      "99% of realisations: 14614.0...21162.0\n"
     ]
    }
   ],
   "source": [
    "# Kraft des Federspeichers Aufgabe 1.b\n",
    "Fb = 2*i*f*(1+np.sum (h1, axis=1)+np.sum (h2, axis=1)+np.sum (l, axis=1)+np.sum (d, axis=1))\n",
    "print('Mean value:          ' + str(np.round(np.mean(Fb))))\n",
    "print('Standard dev.:       ' + str(np.round(np.std(Fb))))\n",
    "print('99% of realisations: ' + str(np.round(np.mean(Fb)-3*np.std(Fb))) + '...' + str(np.round(np.mean(Fb)+3*np.std(Fb)))) "
   ]
  },
  {
   "cell_type": "code",
   "execution_count": 18,
   "metadata": {},
   "outputs": [
    {
     "data": {
      "image/png": "[encoded data removed]",
      "text/plain": [
       "<Figure size 640x480 with 1 Axes>"
      ]
     },
     "metadata": {},
     "output_type": "display_data"
    }
   ],
   "source": [
    "# Verteilungen der Kräfte Fa und Fb\n",
    "nbins = 500     # Zusammenfassen der Werte in 50 Teilpakete, erhöhen für bessere Auflösung\n",
    "plt.hist(Fa, density = True, bins=nbins, alpha=0.4, label='Fa', color='green') \n",
    "plt.hist(Fb, density = True, bins=nbins, alpha=0.4, label='Fb', color='red')  \n",
    "plt.ylabel('relative Häufigkeit')\n",
    "plt.xlabel('$Fa, Fb$/N')\n",
    "plt.legend()\n",
    "plt.show()"
   ]
  },
  {
   "cell_type": "code",
   "execution_count": 19,
   "metadata": {},
   "outputs": [
    {
     "name": "stdout",
     "output_type": "stream",
     "text": [
      "Anzahl der Werte in Fa > 18000N:    723447\n",
      "Gesamtanzahl der Werte in Fa:       1000000\n",
      "Prozentsatz der Werte Fa > 18000N:  72.34%\n"
     ]
    }
   ],
   "source": [
    "#Anzahl konformer Werte in Fa\n",
    "a = np.count_nonzero(Fa > 18000)\n",
    "a_in_Fa = a / N * 100\n",
    "\n",
    "print(f\"Anzahl der Werte in Fa > 18000N:    {a}\")\n",
    "print(f\"Gesamtanzahl der Werte in Fa:       {N}\")\n",
    "print(f\"Prozentsatz der Werte Fa > 18000N:  {round(a_in_Fa, 2)}%\")"
   ]
  },
  {
   "cell_type": "code",
   "execution_count": 20,
   "metadata": {},
   "outputs": [
    {
     "name": "stdout",
     "output_type": "stream",
     "text": [
      "Anzahl der Werte in Fb > 18000N:    457908\n",
      "Gesamtanzahl der Werte in Fb:       1000000\n",
      "Prozentsatz der Werte Fb > 18000N:  45.79%\n"
     ]
    }
   ],
   "source": [
    "#Anzahl konformer Werte in Fb\n",
    "b = np.count_nonzero(Fb > 18000)\n",
    "b_in_Fb = b / N * 100\n",
    "\n",
    "print(f\"Anzahl der Werte in Fb > 18000N:    {b}\")\n",
    "print(f\"Gesamtanzahl der Werte in Fb:       {N}\")\n",
    "print(f\"Prozentsatz der Werte Fb > 18000N:  {round(b_in_Fb, 2)}%\")"
   ]
  },
  {
   "cell_type": "code",
   "execution_count": 21,
   "metadata": {},
   "outputs": [
    {
     "name": "stdout",
     "output_type": "stream",
     "text": [
      "Die Anzahl konformer Einheiten wird um 265539 Einheiten bzw. 26.55% reduziert.\n"
     ]
    }
   ],
   "source": [
    "#Änderung der konformen Werte aus Aufgabe 1.a und 1.b\n",
    "dif_konf_F = a-b\n",
    "Prozent_dif_konf_F = dif_konf_F / N * 100 \n",
    "print(f\"Die Anzahl konformer Einheiten wird um {dif_konf_F} Einheiten bzw. {round(Prozent_dif_konf_F, 2)}% reduziert.\")"
   ]
  },
  {
   "cell_type": "markdown",
   "metadata": {},
   "source": [
    "#### Die zuvor ermittelte Reduktion der Gesamtfedersteifkeit schlägt sich anschließend in der resultierenden Federspeicherkraft nieder. Bei ansonsten unveränderten Eingangsgrößen verschiebt sich die Normalverteilung der Kraft hin zu kleineren Werten und wird \"schmaler\". \n",
    "#### Der Anteil konformer Einheiten sinkt um 26,55 % (von 72,34 % auf 45,79 %) obwohl alle Einzelbauteile weiterhin den Anforderungen entsprechen. Die vergleichsweise kleine Reduktion der Gesamtfedersteifigkeit von 4,44 % führt zu einer Reduktion konformer Einheite um den Faktor 6. Dies zeigt welche hohen Auswirkungen ein systematischer Fehler haben kann.\n",
    "#### Zur Behebung des Problems wäre es sinnvoll den ursprünglich relativ großen Toleranzbereich der Einzelfedern zu reduzieren, oder falls das nicht möglich ist, eine Qualitätskontrolle der Federpakete einzuführen, welche die minimale Gesamtfedersteifigkeit sicherstellt."
   ]
  }
 ],
 "metadata": {
  "kernelspec": {
   "display_name": "Python 3 (ipykernel)",
   "language": "python",
   "name": "python3"
  },
  "language_info": {
   "codemirror_mode": {
    "name": "ipython",
    "version": 3
   },
   "file_extension": ".py",
   "mimetype": "text/x-python",
   "name": "python",
   "nbconvert_exporter": "python",
   "pygments_lexer": "ipython3",
   "version": "3.11.5"
  },
  "vscode": {
   "interpreter": {
    "hash": "ae3b893a0bc58c3148092dc90457c8592fff9682e4337f158c0293f1ec0e16f2"
   }
  }
 },
 "nbformat": 4,
 "nbformat_minor": 2
}
